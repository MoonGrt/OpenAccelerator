{
 "cells": [
  {
   "cell_type": "code",
   "execution_count": 1,
   "id": "90c20c8c",
   "metadata": {},
   "outputs": [],
   "source": [
    "from PIL import Image \n",
    "import numpy as np\n",
    "import torch\n",
    "from torch import nn"
   ]
  },
  {
   "cell_type": "markdown",
   "id": "7809f6d7",
   "metadata": {},
   "source": [
    "# 1  读取图片，并转为一维 tensor 数据类型"
   ]
  },
  {
   "cell_type": "code",
   "execution_count": null,
   "id": "0b0e952e",
   "metadata": {},
   "outputs": [
    {
     "name": "stdout",
     "output_type": "stream",
     "text": [
      "[[   0    0    0    0    0    0    0    0    0    0    0    0    0    0\n",
      "     0    0]\n",
      " [   0    0    0    0    0    0    0    0   43   45   12    0    0    0\n",
      "     0    0]\n",
      " [   0    0    0    0    0    0   56  -69  -12  -39  -39  100    0    0\n",
      "     0    0]\n",
      " [   0    0    0    0    0   78  -22  -63  101   24  -99  -51   10    0\n",
      "     0    0]\n",
      " [   0    0    0    0   15  -39  -36   10    0    0   64   -4   96    0\n",
      "     0    0]\n",
      " [   0    0    0    1  127   -1  126    0    0    0   71   -1  113    0\n",
      "     0    0]\n",
      " [   0    0    0    5  -72   -1   81    0    0    0  -86   -6   63    0\n",
      "     0    0]\n",
      " [   0    0    0    0 -120   -1  110    0    0  101   -1  -64    7    0\n",
      "     0    0]\n",
      " [   0    0    0    0   95   -3  -60   33 -109   -5  -78   43    0    0\n",
      "     0    0]\n",
      " [   0    0    0    0    5  -92   -1  -28  -76   79    2    0    0    0\n",
      "     0    0]\n",
      " [   0    0    0    0    0    4   61   57    0    0    0    0    0    0\n",
      "     0    0]\n",
      " [   0    0    0    0    0    0    0    0    0    0    0    0    0    0\n",
      "     0    0]]\n",
      "tensor([   0.,    0.,    0.,    0.,    0.,    0.,    0.,    0.,    0.,    0.,\n",
      "           0.,    0.,    0.,    0.,    0.,    0.,    0.,    0.,    0.,    0.,\n",
      "           0.,    0.,    0.,    0.,   43.,   45.,   12.,    0.,    0.,    0.,\n",
      "           0.,    0.,    0.,    0.,    0.,    0.,    0.,    0.,   56.,  -69.,\n",
      "         -12.,  -39.,  -39.,  100.,    0.,    0.,    0.,    0.,    0.,    0.,\n",
      "           0.,    0.,    0.,   78.,  -22.,  -63.,  101.,   24.,  -99.,  -51.,\n",
      "          10.,    0.,    0.,    0.,    0.,    0.,    0.,    0.,   15.,  -39.,\n",
      "         -36.,   10.,    0.,    0.,   64.,   -4.,   96.,    0.,    0.,    0.,\n",
      "           0.,    0.,    0.,    1.,  127.,   -1.,  126.,    0.,    0.,    0.,\n",
      "          71.,   -1.,  113.,    0.,    0.,    0.,    0.,    0.,    0.,    5.,\n",
      "         -72.,   -1.,   81.,    0.,    0.,    0.,  -86.,   -6.,   63.,    0.,\n",
      "           0.,    0.,    0.,    0.,    0.,    0., -120.,   -1.,  110.,    0.,\n",
      "           0.,  101.,   -1.,  -64.,    7.,    0.,    0.,    0.,    0.,    0.,\n",
      "           0.,    0.,   95.,   -3.,  -60.,   33., -109.,   -5.,  -78.,   43.,\n",
      "           0.,    0.,    0.,    0.,    0.,    0.,    0.,    0.,    5.,  -92.,\n",
      "          -1.,  -28.,  -76.,   79.,    2.,    0.,    0.,    0.,    0.,    0.,\n",
      "           0.,    0.,    0.,    0.,    0.,    4.,   61.,   57.,    0.,    0.,\n",
      "           0.,    0.,    0.,    0.,    0.,    0.,    0.,    0.,    0.,    0.,\n",
      "           0.,    0.,    0.,    0.,    0.,    0.,    0.,    0.,    0.,    0.,\n",
      "           0.,    0.]) torch.Size([192])\n"
     ]
    }
   ],
   "source": [
    "path0 = 'dataset/MNIST/mnist_test/0/' # 输入图片存储目录\n",
    "\n",
    "# 读取.png文件，此时image为一个np.array数组\n",
    "image = Image.open(path0 + '0.png') # 图片名称\n",
    "image_arr = image.resize((16, 12))# 16x12 = 192 16是宽，12是高\n",
    "image_arr = np.array(image_arr) # 再转化成numpy数组，二维数组，8bit数据  0-255 （无符号数据）\n",
    "image_arr = image_arr.astype(np.int8) # 转有符号的 int8\n",
    "print(image_arr)\n",
    "image_arr = torch.tensor(image_arr,dtype=torch.float)\n",
    "#print(image_arr, type(image_arr))\n",
    "image_arr = image_arr.view(1,1, *image_arr.size())\n",
    "#print(image_arr.size())\n",
    "image_arr = torch.flatten(image_arr)\n",
    "print(image_arr, image_arr.size()) # 展成一维"
   ]
  },
  {
   "cell_type": "markdown",
   "id": "e6d6512b",
   "metadata": {},
   "source": [
    "# 2 调用 Linear 函数模拟全连接层计算"
   ]
  },
  {
   "cell_type": "code",
   "execution_count": null,
   "id": "a9cd2bfb",
   "metadata": {},
   "outputs": [
    {
     "name": "stdout",
     "output_type": "stream",
     "text": [
      "tensor([[1., 1., 1., 1., 1., 1., 1., 1., 1., 1., 1., 1., 1., 1., 1., 1., 1., 1.,\n",
      "         1., 1., 1., 1., 1., 1., 1., 1., 1., 1., 1., 1., 1., 1., 1., 1., 1., 1.,\n",
      "         1., 1., 1., 1., 1., 1., 1., 1., 1., 1., 1., 1., 1., 1., 1., 1., 1., 1.,\n",
      "         1., 1., 1., 1., 1., 1., 1., 1., 1., 1., 1., 1., 1., 1., 1., 1., 1., 1.,\n",
      "         1., 1., 1., 1., 1., 1., 1., 1., 1., 1., 1., 1., 1., 1., 1., 1., 1., 1.,\n",
      "         1., 1., 1., 1., 1., 1., 1., 1., 1., 1., 1., 1., 1., 1., 1., 1., 1., 1.,\n",
      "         1., 1., 1., 1., 1., 1., 1., 1., 1., 1., 1., 1., 1., 1., 1., 1., 1., 1.,\n",
      "         1., 1., 1., 1., 1., 1., 1., 1., 1., 1., 1., 1., 1., 1., 1., 1., 1., 1.,\n",
      "         1., 1., 1., 1., 1., 1., 1., 1., 1., 1., 1., 1., 1., 1., 1., 1., 1., 1.,\n",
      "         1., 1., 1., 1., 1., 1., 1., 1., 1., 1., 1., 1., 1., 1., 1., 1., 1., 1.,\n",
      "         1., 1., 1., 1., 1., 1., 1., 1., 1., 1., 1., 1.]]) torch.Size([1, 192])\n",
      "====================\n",
      "tensor([560], dtype=torch.int32)\n"
     ]
    }
   ],
   "source": [
    "# outfeature = 1 相当于一个神经元\n",
    "fc1 = nn.Linear(192, 1,bias=False)\n",
    "fc1.weight.data = torch.full([1,192],1,dtype=torch.float)\n",
    "print(fc1.weight.data, fc1.weight.data.size())\n",
    "output = fc1(image_arr)\n",
    "output = output.int()\n",
    "print(output)\n",
    "#output = output.byte()\n",
    "#print(output)"
   ]
  },
  {
   "cell_type": "code",
   "execution_count": null,
   "id": "a3eb8be2",
   "metadata": {},
   "outputs": [],
   "source": []
  }
 ],
 "metadata": {
  "kernelspec": {
   "display_name": "Python [conda env:pytorch] *",
   "language": "python",
   "name": "conda-env-pytorch-py"
  },
  "language_info": {
   "codemirror_mode": {
    "name": "ipython",
    "version": 3
   },
   "file_extension": ".py",
   "mimetype": "text/x-python",
   "name": "python",
   "nbconvert_exporter": "python",
   "pygments_lexer": "ipython3",
   "version": "3.7.11"
  }
 },
 "nbformat": 4,
 "nbformat_minor": 5
}
